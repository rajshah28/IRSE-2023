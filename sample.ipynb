{
 "cells": [
  {
   "cell_type": "code",
   "execution_count": null,
   "metadata": {},
   "outputs": [],
   "source": [
    "import os\n",
    "import openai\n",
    "import pandas as pd\n",
    "import time\n",
    "\n",
    "# openai.ChatCompletion.create(\n",
    "#   model=\"gpt-3.5-turbo\",\n",
    "#   messages=[\n",
    "#         {\"role\": \"system\", \"content\": \"You are a helpful assistant.\"},\n",
    "#         {\"role\": \"user\", \"content\": \"Who won the world series in 2020?\"},\n",
    "#         {\"role\": \"assistant\", \"content\": \"The Los Angeles Dodgers won the World Series in 2020.\"},\n",
    "#         {\"role\": \"user\", \"content\": \"Where was it played?\"}\n",
    "#     ]\n",
    "# )"
   ]
  },
  {
   "cell_type": "code",
   "execution_count": null,
   "metadata": {},
   "outputs": [],
   "source": [
    "# Load your API key from an environment variable or secret management service\n",
    "openai.api_key = \"enter_your_api_key_here\""
   ]
  },
  {
   "cell_type": "code",
   "execution_count": null,
   "metadata": {},
   "outputs": [],
   "source": [
    "messages=[\n",
    "        {\"role\": \"system\", \"content\": \"You are a helpful assistant.\"},\n",
    "]\n",
    "file_name = '<Excel_file_name'"
   ]
  },
  {
   "cell_type": "code",
   "execution_count": null,
   "metadata": {},
   "outputs": [],
   "source": [
    "df = pd.read_excel(file_name)\n",
    "count = 0\n",
    "count1 = 0 \n",
    "for index, row in df.iterrows():\n",
    "    if index>=0:\n",
    "        message = df.at[index, 'Query']\n",
    "        messages.append(\n",
    "            {\"role\": \"user\", \"content\": message},\n",
    "        )\n",
    "        chat = openai.ChatCompletion.create(\n",
    "            model=\"gpt-3.5-turbo\",\n",
    "            messages=messages\n",
    "        )\n",
    "        reply = chat.choices[0].message.content\n",
    "        df.at[index, 'ChatGPT Output'] = reply\n",
    "        messages.append({\"role\": \"assistant\", \"content\": reply})\n",
    "        count = count+1\n",
    "        count1 = count1 + 1\n",
    "        if count==5:\n",
    "            count = 0 \n",
    "            messages=[\n",
    "                    {\"role\": \"system\", \"content\": \"You are a helpful assistant.\"},\n",
    "            ]\n",
    "        # if count1==10:\n",
    "        #     # df.to_excel(file_name, index=False)\n",
    "        #     time.sleep(10)"
   ]
  },
  {
   "cell_type": "code",
   "execution_count": null,
   "metadata": {},
   "outputs": [],
   "source": [
    "df.to_excel(file_name, index=False)"
   ]
  },
  {
   "cell_type": "code",
   "execution_count": null,
   "metadata": {},
   "outputs": [],
   "source": [
    "# while True:\n",
    "#     message = input(\"User : \")\n",
    "#     if message:\n",
    "#         messa gesz.append(\n",
    "#             {\"role\": \"user\", \"content\": message},\n",
    "#         )\n",
    "#         chat = openai.ChatCompletion.create(\n",
    "#             model=\"gpt-3.5-turbo\",\n",
    "#             messages=messages\n",
    "#         )\n",
    "#     reply = chat.choices[0].message.content\n",
    "#     print(f\"ChatGPT: {reply}\")\n",
    "#     messages.append({\"role\": \"assistant\", \"content\": reply})"
   ]
  }
 ],
 "metadata": {
  "kernelspec": {
   "display_name": "Python 3",
   "language": "python",
   "name": "python3"
  },
  "language_info": {
   "codemirror_mode": {
    "name": "ipython",
    "version": 3
   },
   "file_extension": ".py",
   "mimetype": "text/x-python",
   "name": "python",
   "nbconvert_exporter": "python",
   "pygments_lexer": "ipython3",
   "version": "3.10.6"
  },
  "orig_nbformat": 4
 },
 "nbformat": 4,
 "nbformat_minor": 2
}
